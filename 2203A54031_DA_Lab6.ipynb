{
  "nbformat": 4,
  "nbformat_minor": 0,
  "metadata": {
    "colab": {
      "provenance": []
    },
    "kernelspec": {
      "name": "python3",
      "display_name": "Python 3"
    },
    "language_info": {
      "name": "python"
    }
  },
  "cells": [
    {
      "cell_type": "code",
      "execution_count": 3,
      "metadata": {
        "colab": {
          "base_uri": "https://localhost:8080/"
        },
        "id": "uJFLceG_Agp7",
        "outputId": "611fabef-5e4d-405f-85dc-10ae95d48bbc"
      },
      "outputs": [
        {
          "output_type": "stream",
          "name": "stdout",
          "text": [
            "Drive already mounted at /content/drive; to attempt to forcibly remount, call drive.mount(\"/content/drive\", force_remount=True).\n"
          ]
        }
      ],
      "source": [
        "from google.colab import drive\n",
        "drive.mount('/content/drive')"
      ]
    },
    {
      "cell_type": "code",
      "source": [
        "import numpy as np\n",
        "import pandas as pd\n",
        "import matplotlib.pyplot as plt\n",
        "import seaborn as sns"
      ],
      "metadata": {
        "id": "XK1Y9sqaA4fi"
      },
      "execution_count": 4,
      "outputs": []
    },
    {
      "cell_type": "code",
      "source": [
        "df = pd.read_csv('/content/drive/MyDrive/ColabNotebooks/DAUP/supermarket_sales -.csv')"
      ],
      "metadata": {
        "id": "9d5wKFH_CRb_"
      },
      "execution_count": 5,
      "outputs": []
    },
    {
      "cell_type": "code",
      "source": [
        "df.isna().sum()"
      ],
      "metadata": {
        "colab": {
          "base_uri": "https://localhost:8080/",
          "height": 617
        },
        "id": "1hSsc2ryCrB3",
        "outputId": "e47561a9-6ac7-49fc-9494-3b72385ce2f3"
      },
      "execution_count": 6,
      "outputs": [
        {
          "output_type": "execute_result",
          "data": {
            "text/plain": [
              "Invoice ID                 0\n",
              "Branch                     0\n",
              "City                       0\n",
              "Customer type              0\n",
              "Gender                     0\n",
              "Product line               0\n",
              "Unit price                 0\n",
              "Quantity                   0\n",
              "Tax 5%                     0\n",
              "Total                      0\n",
              "Date                       0\n",
              "Time                       0\n",
              "Payment                    0\n",
              "cogs                       0\n",
              "gross margin percentage    0\n",
              "gross income               0\n",
              "Rating                     0\n",
              "dtype: int64"
            ],
            "text/html": [
              "<div>\n",
              "<style scoped>\n",
              "    .dataframe tbody tr th:only-of-type {\n",
              "        vertical-align: middle;\n",
              "    }\n",
              "\n",
              "    .dataframe tbody tr th {\n",
              "        vertical-align: top;\n",
              "    }\n",
              "\n",
              "    .dataframe thead th {\n",
              "        text-align: right;\n",
              "    }\n",
              "</style>\n",
              "<table border=\"1\" class=\"dataframe\">\n",
              "  <thead>\n",
              "    <tr style=\"text-align: right;\">\n",
              "      <th></th>\n",
              "      <th>0</th>\n",
              "    </tr>\n",
              "  </thead>\n",
              "  <tbody>\n",
              "    <tr>\n",
              "      <th>Invoice ID</th>\n",
              "      <td>0</td>\n",
              "    </tr>\n",
              "    <tr>\n",
              "      <th>Branch</th>\n",
              "      <td>0</td>\n",
              "    </tr>\n",
              "    <tr>\n",
              "      <th>City</th>\n",
              "      <td>0</td>\n",
              "    </tr>\n",
              "    <tr>\n",
              "      <th>Customer type</th>\n",
              "      <td>0</td>\n",
              "    </tr>\n",
              "    <tr>\n",
              "      <th>Gender</th>\n",
              "      <td>0</td>\n",
              "    </tr>\n",
              "    <tr>\n",
              "      <th>Product line</th>\n",
              "      <td>0</td>\n",
              "    </tr>\n",
              "    <tr>\n",
              "      <th>Unit price</th>\n",
              "      <td>0</td>\n",
              "    </tr>\n",
              "    <tr>\n",
              "      <th>Quantity</th>\n",
              "      <td>0</td>\n",
              "    </tr>\n",
              "    <tr>\n",
              "      <th>Tax 5%</th>\n",
              "      <td>0</td>\n",
              "    </tr>\n",
              "    <tr>\n",
              "      <th>Total</th>\n",
              "      <td>0</td>\n",
              "    </tr>\n",
              "    <tr>\n",
              "      <th>Date</th>\n",
              "      <td>0</td>\n",
              "    </tr>\n",
              "    <tr>\n",
              "      <th>Time</th>\n",
              "      <td>0</td>\n",
              "    </tr>\n",
              "    <tr>\n",
              "      <th>Payment</th>\n",
              "      <td>0</td>\n",
              "    </tr>\n",
              "    <tr>\n",
              "      <th>cogs</th>\n",
              "      <td>0</td>\n",
              "    </tr>\n",
              "    <tr>\n",
              "      <th>gross margin percentage</th>\n",
              "      <td>0</td>\n",
              "    </tr>\n",
              "    <tr>\n",
              "      <th>gross income</th>\n",
              "      <td>0</td>\n",
              "    </tr>\n",
              "    <tr>\n",
              "      <th>Rating</th>\n",
              "      <td>0</td>\n",
              "    </tr>\n",
              "  </tbody>\n",
              "</table>\n",
              "</div><br><label><b>dtype:</b> int64</label>"
            ]
          },
          "metadata": {},
          "execution_count": 6
        }
      ]
    },
    {
      "cell_type": "code",
      "source": [
        "df.shape"
      ],
      "metadata": {
        "colab": {
          "base_uri": "https://localhost:8080/"
        },
        "id": "aIRTSVokCw9b",
        "outputId": "68ec8ec8-2555-4a0a-d291-dedf9bfc4aab"
      },
      "execution_count": 7,
      "outputs": [
        {
          "output_type": "execute_result",
          "data": {
            "text/plain": [
              "(1000, 17)"
            ]
          },
          "metadata": {},
          "execution_count": 7
        }
      ]
    },
    {
      "cell_type": "markdown",
      "source": [
        "Task - 1"
      ],
      "metadata": {
        "id": "rIvMcdcQRT2T"
      }
    },
    {
      "cell_type": "code",
      "source": [
        "total_transactions = len(df)"
      ],
      "metadata": {
        "id": "IPhdO9rbDRap"
      },
      "execution_count": 8,
      "outputs": []
    },
    {
      "cell_type": "code",
      "source": [
        "#P(A)\n",
        "count_A = len(df[df[\"Customer type\"] == \"Member\"])\n",
        "P_A = count_A / total_transactions\n",
        "print(P_A)"
      ],
      "metadata": {
        "colab": {
          "base_uri": "https://localhost:8080/"
        },
        "id": "v7Lb5V7UHbPY",
        "outputId": "2225e6b4-aef2-4c1c-a13e-2049bd34aa32"
      },
      "execution_count": 9,
      "outputs": [
        {
          "output_type": "stream",
          "name": "stdout",
          "text": [
            "0.501\n"
          ]
        }
      ]
    },
    {
      "cell_type": "code",
      "source": [
        "#P(B)\n",
        "count_B = len(df[df[\"Payment\"] == \"Credit card\"])\n",
        "P_B = count_B / total_transactions\n",
        "print(P_B)"
      ],
      "metadata": {
        "colab": {
          "base_uri": "https://localhost:8080/"
        },
        "id": "sacxGrBKHirL",
        "outputId": "b1f8f638-9131-4901-ef4d-618db94bc670"
      },
      "execution_count": 10,
      "outputs": [
        {
          "output_type": "stream",
          "name": "stdout",
          "text": [
            "0.311\n"
          ]
        }
      ]
    },
    {
      "cell_type": "code",
      "source": [
        "#P(AnB)\n",
        "count_A_Intersection_B = len(df[(df[\"Customer type\"] == \"Member\") & (df[\"Payment\"] == \"Credit card\")])\n",
        "P_A_Intersection_B = count_A_Intersection_B / total_transactions\n",
        "print(P_A_Intersection_B)"
      ],
      "metadata": {
        "colab": {
          "base_uri": "https://localhost:8080/"
        },
        "id": "967vykItHtXf",
        "outputId": "37bffb27-40b9-4131-c7c7-cf83533963db"
      },
      "execution_count": 11,
      "outputs": [
        {
          "output_type": "stream",
          "name": "stdout",
          "text": [
            "0.172\n"
          ]
        }
      ]
    },
    {
      "cell_type": "code",
      "source": [
        "#P(AuB)\n",
        "P_A_U_B = P_A + P_B - P_A_Intersection_B\n",
        "print(P_A_U_B)"
      ],
      "metadata": {
        "colab": {
          "base_uri": "https://localhost:8080/"
        },
        "id": "ASMEpDmZH0BN",
        "outputId": "af738f75-403e-46c4-debc-a69e96c6d096"
      },
      "execution_count": 12,
      "outputs": [
        {
          "output_type": "stream",
          "name": "stdout",
          "text": [
            "0.6400000000000001\n"
          ]
        }
      ]
    },
    {
      "cell_type": "code",
      "source": [
        "#P(A|B)\n",
        "P_A_given_B = P_A_Intersection_B / P_B if P_B != 0 else 0\n",
        "print(P_A_given_B)"
      ],
      "metadata": {
        "colab": {
          "base_uri": "https://localhost:8080/"
        },
        "id": "E4ApD5p0H7lJ",
        "outputId": "57696ad2-db0e-48b5-a491-2d49740c5cd2"
      },
      "execution_count": 13,
      "outputs": [
        {
          "output_type": "stream",
          "name": "stdout",
          "text": [
            "0.5530546623794211\n"
          ]
        }
      ]
    },
    {
      "cell_type": "code",
      "source": [
        "#Probability of Health & Beauty\n",
        "count_health_beauty = len(df[df[\"Product line\"] == \"Health and beauty\"])\n",
        "P_health_beauty = count_health_beauty / total_transactions\n",
        "print(P_health_beauty)"
      ],
      "metadata": {
        "colab": {
          "base_uri": "https://localhost:8080/"
        },
        "id": "h4RydNarIezh",
        "outputId": "583c598f-63ba-4822-80ed-ba9dbeec1814"
      },
      "execution_count": 14,
      "outputs": [
        {
          "output_type": "stream",
          "name": "stdout",
          "text": [
            "0.152\n"
          ]
        }
      ]
    },
    {
      "cell_type": "code",
      "source": [
        "#Probability of a customer used Ewallet and purchased more than 5 items\n",
        "count_ewallet = len(df[df[\"Payment\"] == \"Ewallet\"])\n",
        "count_ewallet_more_than_5 = len(df[(df[\"Payment\"] == \"Ewallet\") & (df[\"Quantity\"] > 5)])\n",
        "p_more_than_5_given_ewallet = count_ewallet_more_than_5 / count_ewallet if count_ewallet != 0 else 0\n",
        "print(p_more_than_5_given_ewallet)"
      ],
      "metadata": {
        "colab": {
          "base_uri": "https://localhost:8080/"
        },
        "id": "vDJ-ggf3I8Kz",
        "outputId": "8188a3e1-c2e1-40ab-99d8-7eabf2d4103d"
      },
      "execution_count": 15,
      "outputs": [
        {
          "output_type": "stream",
          "name": "stdout",
          "text": [
            "0.48695652173913045\n"
          ]
        }
      ]
    },
    {
      "cell_type": "code",
      "source": [
        "#transaction from Yangon used Cash as the payment method\n",
        "count_Yangon = len(df['City']==\"Yangon\")\n",
        "count_Yangon_cash =  len(df[(df[\"City\"] == \"Yangon\") & (df[\"Payment\"] == \"Cash\")])\n",
        "P_Yangon_given_cash = count_Yangon_cash / count_Yangon if count_Yangon != 0 else 0\n",
        "print(P_Yangon_given_cash)"
      ],
      "metadata": {
        "colab": {
          "base_uri": "https://localhost:8080/"
        },
        "id": "8JO2asdbJavM",
        "outputId": "713d1b39-1a05-480b-9f15-ed70644d0c51"
      },
      "execution_count": 16,
      "outputs": [
        {
          "output_type": "stream",
          "name": "stdout",
          "text": [
            "0.11\n"
          ]
        }
      ]
    },
    {
      "cell_type": "code",
      "source": [
        "#selecting a customer who is a Member and has given a rating above 8.\n",
        "count_member_rating_above_8 = len(df[(df[\"Customer type\"] == \"Member\") & (df[\"Rating\"] > 8)])\n",
        "P_member_rating_above_8 = count_member_rating_above_8 / total_transactions"
      ],
      "metadata": {
        "id": "s72HY0jmNd9w"
      },
      "execution_count": 17,
      "outputs": []
    },
    {
      "cell_type": "markdown",
      "source": [
        "TASK - 2"
      ],
      "metadata": {
        "id": "n05ZxpNeN1Fc"
      }
    },
    {
      "cell_type": "code",
      "source": [
        "import math"
      ],
      "metadata": {
        "id": "IDYVl4TUOOAB"
      },
      "execution_count": 18,
      "outputs": []
    },
    {
      "cell_type": "code",
      "source": [
        "def permutations(n,r):\n",
        "    return math.factorial(n)//math.factorial(n-r)"
      ],
      "metadata": {
        "id": "9Qlucn6TN0ac"
      },
      "execution_count": 19,
      "outputs": []
    },
    {
      "cell_type": "code",
      "source": [
        "def combinations(n,r):\n",
        "    return math.factorial(n)//(math.factorial(n-r)*math.factorial(r))"
      ],
      "metadata": {
        "id": "xVnWrQzsOZEp"
      },
      "execution_count": 20,
      "outputs": []
    },
    {
      "cell_type": "code",
      "source": [
        "_20_p_5_ = permutations(20,5)\n",
        "print(_20_p_5_)"
      ],
      "metadata": {
        "colab": {
          "base_uri": "https://localhost:8080/"
        },
        "id": "NL91-TjBOmjx",
        "outputId": "d12dbd67-14db-4f55-fb0a-c7f8304ee47f"
      },
      "execution_count": 21,
      "outputs": [
        {
          "output_type": "stream",
          "name": "stdout",
          "text": [
            "1860480\n"
          ]
        }
      ]
    },
    {
      "cell_type": "code",
      "source": [
        "_6_C_3_ = combinations(6,3)\n",
        "print(_6_C_3_)"
      ],
      "metadata": {
        "colab": {
          "base_uri": "https://localhost:8080/"
        },
        "id": "oUK3s0xGO0Kg",
        "outputId": "560c63e3-bacf-4fff-ee69-56f5cffb1ae4"
      },
      "execution_count": 22,
      "outputs": [
        {
          "output_type": "stream",
          "name": "stdout",
          "text": [
            "20\n"
          ]
        }
      ]
    },
    {
      "cell_type": "code",
      "source": [
        "num_branches = df[\"Branch\"].nunique()\n",
        "fact_branches = math.factorial(num_branches)\n",
        "print(fact_branches)"
      ],
      "metadata": {
        "colab": {
          "base_uri": "https://localhost:8080/"
        },
        "id": "ar1L68ljO8ky",
        "outputId": "59a7cd99-6784-4828-8ad4-1d0b5b38a716"
      },
      "execution_count": 23,
      "outputs": [
        {
          "output_type": "stream",
          "name": "stdout",
          "text": [
            "6\n"
          ]
        }
      ]
    },
    {
      "cell_type": "code",
      "source": [
        "perm_4_from_3 = permutations(3, 4) if 3 >= 4 else \"Not possible\"\n",
        "print(perm_4_from_3)"
      ],
      "metadata": {
        "colab": {
          "base_uri": "https://localhost:8080/"
        },
        "id": "nrX00xZxPHjl",
        "outputId": "634e0d3c-e649-4ef0-d2ab-8bb95447e66f"
      },
      "execution_count": 24,
      "outputs": [
        {
          "output_type": "stream",
          "name": "stdout",
          "text": [
            "Not possible\n"
          ]
        }
      ]
    },
    {
      "cell_type": "code",
      "source": [
        "comb_5_from_15 = combinations(15, 5)\n",
        "print(comb_5_from_15)"
      ],
      "metadata": {
        "colab": {
          "base_uri": "https://localhost:8080/"
        },
        "id": "YBHHuhyBPSYB",
        "outputId": "e4cc448d-f3cc-4c81-eb2b-2b03a412e222"
      },
      "execution_count": 25,
      "outputs": [
        {
          "output_type": "stream",
          "name": "stdout",
          "text": [
            "3003\n"
          ]
        }
      ]
    },
    {
      "cell_type": "code",
      "source": [
        "perm_6_from_26 = permutations(26, 6)\n",
        "print(perm_6_from_26)"
      ],
      "metadata": {
        "colab": {
          "base_uri": "https://localhost:8080/"
        },
        "id": "KRhExb6rPbes",
        "outputId": "82339f94-7845-4915-e10c-cbf8599e24e7"
      },
      "execution_count": 26,
      "outputs": [
        {
          "output_type": "stream",
          "name": "stdout",
          "text": [
            "165765600\n"
          ]
        }
      ]
    },
    {
      "cell_type": "code",
      "source": [
        "print(\"Probability Results:\")\n",
        "print(f\"P(A) (Member transaction): {P_A:.3f}\")\n",
        "print(f\"P(B) (Credit Card payment): {P_B:.3f}\")\n",
        "print(f\"P(A ∪ B) (Member or Credit Card payment): {P_A_U_B:.3f}\")\n",
        "print(f\"P(A ∩ B) (Member and Credit Card payment): {P_A_Intersection_B:.3f}\")\n",
        "print(f\"P(A | B) (Member given Credit Card payment): {P_A_given_B:.3f}\")\n",
        "print(f\"P(Health & Beauty product line transaction): {P_health_beauty:.3f}\")\n",
        "print(f\"P(Purchasing more than 5 items given Ewallet payment): {p_more_than_5_given_ewallet:.3f}\")\n",
        "print(f\"P(Cash payment given Yangon transaction): {P_Yangon_given_cash:.3f}\")\n",
        "print(f\"P(Member and Rating > 8): {P_member_rating_above_8:.3f}\")"
      ],
      "metadata": {
        "colab": {
          "base_uri": "https://localhost:8080/"
        },
        "id": "yzmZPsQnPh5e",
        "outputId": "c5a43a8d-0e92-4883-e711-4161af50027d"
      },
      "execution_count": 27,
      "outputs": [
        {
          "output_type": "stream",
          "name": "stdout",
          "text": [
            "Probability Results:\n",
            "P(A) (Member transaction): 0.501\n",
            "P(B) (Credit Card payment): 0.311\n",
            "P(A ∪ B) (Member or Credit Card payment): 0.640\n",
            "P(A ∩ B) (Member and Credit Card payment): 0.172\n",
            "P(A | B) (Member given Credit Card payment): 0.553\n",
            "P(Health & Beauty product line transaction): 0.152\n",
            "P(Purchasing more than 5 items given Ewallet payment): 0.487\n",
            "P(Cash payment given Yangon transaction): 0.110\n",
            "P(Member and Rating > 8): 0.157\n"
          ]
        }
      ]
    },
    {
      "cell_type": "code",
      "source": [
        "print(\"\\nCombinatorial Results:\")\n",
        "print(f\"Ways to arrange 5 transactions from 20 sales: {_20_p_5_}\")\n",
        "print(f\"Ways to select 3 product lines from 6 categories: {_6_C_3_}\")\n",
        "print(f\"Factorial of the number of different branches: {fact_branches}\")\n",
        "print(f\"Ways to display 4 payment methods from 3 available types: {perm_4_from_3}\")\n",
        "print(f\"Ways to select 5 employees from 15 for a survey: {comb_5_from_15}\")\n",
        "print(f\"Ways to create unique invoice codes using 6 letters: {perm_6_from_26}\")"
      ],
      "metadata": {
        "colab": {
          "base_uri": "https://localhost:8080/"
        },
        "id": "Aodm3ndGQBn3",
        "outputId": "4d0855ef-6ed6-45cf-f029-72440e042e36"
      },
      "execution_count": 28,
      "outputs": [
        {
          "output_type": "stream",
          "name": "stdout",
          "text": [
            "\n",
            "Combinatorial Results:\n",
            "Ways to arrange 5 transactions from 20 sales: 1860480\n",
            "Ways to select 3 product lines from 6 categories: 20\n",
            "Factorial of the number of different branches: 6\n",
            "Ways to display 4 payment methods from 3 available types: Not possible\n",
            "Ways to select 5 employees from 15 for a survey: 3003\n",
            "Ways to create unique invoice codes using 6 letters: 165765600\n"
          ]
        }
      ]
    }
  ]
}